{
 "cells": [
  {
   "cell_type": "code",
   "execution_count": 16,
   "metadata": {},
   "outputs": [],
   "source": [
    "import numpy as np\n",
    "import pandas as pd"
   ]
  },
  {
   "cell_type": "code",
   "execution_count": 17,
   "metadata": {},
   "outputs": [],
   "source": [
    "columns = [\"ID\", \"Тип\", \"Общее количество чтений\", \"Количество открартированных и процент\", \"Количество уникально откартированных и процент\", \"Общее количество чтений на гене\"]"
   ]
  },
  {
   "cell_type": "code",
   "execution_count": 36,
   "metadata": {},
   "outputs": [],
   "source": [
    "gene = [\"SRR3414629\", \"SRR3414630\", \"SRR3414631\", \"SRR3414635\", \"SRR3414636\", \"SRR3414637\"]\n",
    "types = [\"reprogramming\", \"reprogramming\", \"reprogramming\", \"control\", \"control\", \"control\"]\n",
    "reads = [21106089, 15244711, 24244069, 20956475, 20307147, 20385570]\n",
    "alreads = [\"20510113 (97.18 %)\", \"14832680 (97.30 %)\" , \"23547686 (97.13 %)\", \"20395865 (97.32 %)\", \"19757059 (97.29 %)\", \"19847291 (97.36 %)\"]\n",
    "al1reads = [\"18375888 (87.06 %)\", \"13186139 (86.50 %)\", \"20928945 (86.33 %)\", \"18428317 (87.94 %)\", \"17825380 (87.78 %)\", \"17844858 (87.54 %)\"]\n",
    "readgenes = [\"16049609 (76.04 %)\", \"11465324 (75.21 %)\", \"18408851 (75.93 %)\", \"16275997 (77.67 %)\", \"15757580 (77.60 %)\", \"15736978 (77.20 %)\"]"
   ]
  },
  {
   "cell_type": "code",
   "execution_count": 37,
   "metadata": {},
   "outputs": [],
   "source": [
    "dcol = list(zip(gene, types, reads, alreads, al1reads, readgenes))"
   ]
  },
  {
   "cell_type": "code",
   "execution_count": 38,
   "metadata": {},
   "outputs": [
    {
     "data": {
      "text/plain": [
       "[('SRR3414629',\n",
       "  'reprogramming',\n",
       "  21106089,\n",
       "  '20510113 (97.18 %)',\n",
       "  '18375888 (87.06 %)',\n",
       "  '16049609 (76.04 %)'),\n",
       " ('SRR3414630',\n",
       "  'reprogramming',\n",
       "  15244711,\n",
       "  '14832680 (97.30 %)',\n",
       "  '13186139 (86.50 %)',\n",
       "  '11465324 (75.21 %)'),\n",
       " ('SRR3414631',\n",
       "  'reprogramming',\n",
       "  24244069,\n",
       "  '23547686 (97.13 %)',\n",
       "  '20928945 (86.33 %)',\n",
       "  '18408851 (75.93 %)'),\n",
       " ('SRR3414635',\n",
       "  'control',\n",
       "  20956475,\n",
       "  '20395865 (97.32 %)',\n",
       "  '18428317 (87.94 %)',\n",
       "  '16275997 (77.67 %)'),\n",
       " ('SRR3414636',\n",
       "  'control',\n",
       "  20307147,\n",
       "  '19757059 (97.29 %)',\n",
       "  '17825380 (87.78 %)',\n",
       "  '15757580 (77.60 %)'),\n",
       " ('SRR3414637',\n",
       "  'control',\n",
       "  20385570,\n",
       "  '19847291 (97.36 %)',\n",
       "  '17844858 (87.54 %)',\n",
       "  '15736978 (77.20 %)')]"
      ]
     },
     "execution_count": 38,
     "metadata": {},
     "output_type": "execute_result"
    }
   ],
   "source": [
    "dcol"
   ]
  },
  {
   "cell_type": "code",
   "execution_count": 39,
   "metadata": {},
   "outputs": [],
   "source": [
    "stats = pd.DataFrame(data = dcol, columns=columns, index=[1, 2, 3, 4, 5, 6])"
   ]
  },
  {
   "cell_type": "code",
   "execution_count": 40,
   "metadata": {},
   "outputs": [
    {
     "data": {
      "text/html": [
       "<div>\n",
       "<style scoped>\n",
       "    .dataframe tbody tr th:only-of-type {\n",
       "        vertical-align: middle;\n",
       "    }\n",
       "\n",
       "    .dataframe tbody tr th {\n",
       "        vertical-align: top;\n",
       "    }\n",
       "\n",
       "    .dataframe thead th {\n",
       "        text-align: right;\n",
       "    }\n",
       "</style>\n",
       "<table border=\"1\" class=\"dataframe\">\n",
       "  <thead>\n",
       "    <tr style=\"text-align: right;\">\n",
       "      <th></th>\n",
       "      <th>ID</th>\n",
       "      <th>Тип</th>\n",
       "      <th>Общее количество чтений</th>\n",
       "      <th>Количество открартированных и процент</th>\n",
       "      <th>Количество уникально откартированных и процент</th>\n",
       "      <th>Общее количество чтений на гене</th>\n",
       "    </tr>\n",
       "  </thead>\n",
       "  <tbody>\n",
       "    <tr>\n",
       "      <th>1</th>\n",
       "      <td>SRR3414629</td>\n",
       "      <td>reprogramming</td>\n",
       "      <td>21106089</td>\n",
       "      <td>20510113 (97.18 %)</td>\n",
       "      <td>18375888 (87.06 %)</td>\n",
       "      <td>16049609 (76.04 %)</td>\n",
       "    </tr>\n",
       "    <tr>\n",
       "      <th>2</th>\n",
       "      <td>SRR3414630</td>\n",
       "      <td>reprogramming</td>\n",
       "      <td>15244711</td>\n",
       "      <td>14832680 (97.30 %)</td>\n",
       "      <td>13186139 (86.50 %)</td>\n",
       "      <td>11465324 (75.21 %)</td>\n",
       "    </tr>\n",
       "    <tr>\n",
       "      <th>3</th>\n",
       "      <td>SRR3414631</td>\n",
       "      <td>reprogramming</td>\n",
       "      <td>24244069</td>\n",
       "      <td>23547686 (97.13 %)</td>\n",
       "      <td>20928945 (86.33 %)</td>\n",
       "      <td>18408851 (75.93 %)</td>\n",
       "    </tr>\n",
       "    <tr>\n",
       "      <th>4</th>\n",
       "      <td>SRR3414635</td>\n",
       "      <td>control</td>\n",
       "      <td>20956475</td>\n",
       "      <td>20395865 (97.32 %)</td>\n",
       "      <td>18428317 (87.94 %)</td>\n",
       "      <td>16275997 (77.67 %)</td>\n",
       "    </tr>\n",
       "    <tr>\n",
       "      <th>5</th>\n",
       "      <td>SRR3414636</td>\n",
       "      <td>control</td>\n",
       "      <td>20307147</td>\n",
       "      <td>19757059 (97.29 %)</td>\n",
       "      <td>17825380 (87.78 %)</td>\n",
       "      <td>15757580 (77.60 %)</td>\n",
       "    </tr>\n",
       "    <tr>\n",
       "      <th>6</th>\n",
       "      <td>SRR3414637</td>\n",
       "      <td>control</td>\n",
       "      <td>20385570</td>\n",
       "      <td>19847291 (97.36 %)</td>\n",
       "      <td>17844858 (87.54 %)</td>\n",
       "      <td>15736978 (77.20 %)</td>\n",
       "    </tr>\n",
       "  </tbody>\n",
       "</table>\n",
       "</div>"
      ],
      "text/plain": [
       "           ID            Тип  Общее количество чтений  \\\n",
       "1  SRR3414629  reprogramming                 21106089   \n",
       "2  SRR3414630  reprogramming                 15244711   \n",
       "3  SRR3414631  reprogramming                 24244069   \n",
       "4  SRR3414635        control                 20956475   \n",
       "5  SRR3414636        control                 20307147   \n",
       "6  SRR3414637        control                 20385570   \n",
       "\n",
       "  Количество открартированных и процент  \\\n",
       "1                    20510113 (97.18 %)   \n",
       "2                    14832680 (97.30 %)   \n",
       "3                    23547686 (97.13 %)   \n",
       "4                    20395865 (97.32 %)   \n",
       "5                    19757059 (97.29 %)   \n",
       "6                    19847291 (97.36 %)   \n",
       "\n",
       "  Количество уникально откартированных и процент  \\\n",
       "1                             18375888 (87.06 %)   \n",
       "2                             13186139 (86.50 %)   \n",
       "3                             20928945 (86.33 %)   \n",
       "4                             18428317 (87.94 %)   \n",
       "5                             17825380 (87.78 %)   \n",
       "6                             17844858 (87.54 %)   \n",
       "\n",
       "  Общее количество чтений на гене  \n",
       "1              16049609 (76.04 %)  \n",
       "2              11465324 (75.21 %)  \n",
       "3              18408851 (75.93 %)  \n",
       "4              16275997 (77.67 %)  \n",
       "5              15757580 (77.60 %)  \n",
       "6              15736978 (77.20 %)  "
      ]
     },
     "execution_count": 40,
     "metadata": {},
     "output_type": "execute_result"
    }
   ],
   "source": [
    "stats"
   ]
  },
  {
   "cell_type": "code",
   "execution_count": null,
   "metadata": {},
   "outputs": [],
   "source": []
  },
  {
   "cell_type": "code",
   "execution_count": null,
   "metadata": {},
   "outputs": [],
   "source": []
  },
  {
   "cell_type": "code",
   "execution_count": null,
   "metadata": {},
   "outputs": [],
   "source": []
  }
 ],
 "metadata": {
  "kernelspec": {
   "display_name": "Python 3",
   "language": "python",
   "name": "python3"
  },
  "language_info": {
   "codemirror_mode": {
    "name": "ipython",
    "version": 3
   },
   "file_extension": ".py",
   "mimetype": "text/x-python",
   "name": "python",
   "nbconvert_exporter": "python",
   "pygments_lexer": "ipython3",
   "version": "3.7.4"
  }
 },
 "nbformat": 4,
 "nbformat_minor": 4
}
